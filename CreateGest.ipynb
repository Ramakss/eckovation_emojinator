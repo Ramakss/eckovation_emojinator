{
 "cells": [
  {
   "cell_type": "code",
   "execution_count": 1,
   "id": "5054644c",
   "metadata": {},
   "outputs": [],
   "source": [
    "#creating our own dataset\n",
    "import cv2 #images\n",
    "import numpy as np #calculations\n",
    "import os #folders"
   ]
  },
  {
   "cell_type": "code",
   "execution_count": 2,
   "id": "78f49003",
   "metadata": {},
   "outputs": [],
   "source": [
    "image_x, image_y = 50, 50 #width and height of img"
   ]
  },
  {
   "cell_type": "code",
   "execution_count": 3,
   "id": "c2560244",
   "metadata": {},
   "outputs": [],
   "source": [
    "def create_folder(folder_name): #folder nameis sent as parameter\n",
    "    if not os.path.exists(folder_name): #checks if the folder name already exists or not. If does not exist, then creates that folder.\n",
    "        os.mkdir(folder_name)"
   ]
  },
  {
   "cell_type": "code",
   "execution_count": 4,
   "id": "dad3c0ee",
   "metadata": {},
   "outputs": [],
   "source": [
    "def store_images(g_id): #get gesture id as parameter\n",
    "    total_pics = 1200\n",
    "    cap = cv2.VideoCapture(0) #opening webcam\n",
    "    x, y, w, h = 300, 50, 350, 350 #particular area where we will capture gesture\n",
    "    \n",
    "    create_folder(\"gestures/\" + str(g_id)) #inside gesture folder, creates the folder with gesture id(g_id)\n",
    "    \n",
    "    #local vars, whose values change, when we are actually creating images\n",
    "    pic_no = 0\n",
    "    flag_start_capturing = False\n",
    "    frames = 0\n",
    "    \n",
    "    #Adding filters to images\n",
    "    while True:\n",
    "        ret, frame = cap.read() #Reading the webcam and storing it in frame var\n",
    "        frame = cv2.flip(frame, 1) #in webcam everything is inverted, so we are flipping the image again, for it to look in the correct format\n",
    "        hsv = cv2.cvtColor(frame, cv2.COLOR_BGR2HSV) #used to convert image to hsv format\n",
    "        mask2 = cv2.inRange(hsv, np.array([2, 50, 60]), np.array([25, 150, 255])) #The color of the mask2 is betn the 2 given np array values, which is the skin color value.\n",
    "        res = cv2.bitwise_and(frame, frame, mask=mask2)\n",
    "        gray = cv2.cvtColor(res, cv2.COLOR_BGR2GRAY)\n",
    "        median = cv2.GaussianBlur(gray, (5, 5), 0)\n",
    "        \n",
    "        kernel_square = np.ones((5, 5), np.uint8)\n",
    "        dilation = cv2.dilate(median, kernel_square, iterations=2) #One pixel on the border s removed, and other pixels in that color is removed to remove background noise\n",
    "        opening=cv2.morphologyEx(dilation,cv2.MORPH_CLOSE,kernel_square) #smoothen the image more\n",
    "\n",
    "        ret, thresh = cv2.threshold(opening, 30, 255, cv2.THRESH_BINARY)\n",
    "        thresh = thresh[y:y + h, x:x + w] #black n white\n",
    "        contours = cv2.findContours(thresh.copy(), cv2.RETR_TREE, cv2.CHAIN_APPROX_NONE)[1] #looking for different handshakes\n",
    "        \n",
    "        if len(contours) > 0:\n",
    "            contour = max(contours, key=cv2.contourArea)\n",
    "            if cv2.contourArea(contour) > 10000 and frames > 50:\n",
    "                x1, y1, w1, h1 = cv2.boundingRect(contour) #gives min. bounding rectangle\n",
    "                pic_no += 1\n",
    "                save_img = thresh[y1:y1 + h1, x1:x1 + w1]\n",
    "                save_img = cv2.resize(save_img, (image_x, image_y))\n",
    "                cv2.putText(frame, \"Capturing...\", (30, 60), cv2.FONT_HERSHEY_TRIPLEX, 2, (127, 255, 255))\n",
    "                cv2.imwrite(\"gestures/\" + str(g_id) + \"/\" + str(pic_no) + \".jpg\", save_img)\n",
    "        \n",
    "        cv2.rectangle(frame, (x, y), (x + w, y + h), (0, 255, 0), 2)\n",
    "        cv2.putText(frame, str(pic_no), (30, 400), cv2.FONT_HERSHEY_TRIPLEX, 1.5, (127, 127, 255))\n",
    "        cv2.imshow(\"Capturing gesture\", frame)\n",
    "        cv2.imshow(\"thresh\", thresh)\n",
    "        keypress = cv2.waitKey(1)\n",
    "        if keypress == ord('c'):\n",
    "            if flag_start_capturing == False:\n",
    "                flag_start_capturing = True\n",
    "            else:\n",
    "                flag_start_capturing = False\n",
    "                frames = 0\n",
    "        if flag_start_capturing == True:\n",
    "            frames += 1\n",
    "        if pic_no == total_pics:\n",
    "            break"
   ]
  },
  {
   "cell_type": "code",
   "execution_count": null,
   "id": "441f9baa",
   "metadata": {},
   "outputs": [
    {
     "name": "stdout",
     "output_type": "stream",
     "text": [
      "Enter gesture number: 5\n"
     ]
    }
   ],
   "source": [
    "g_id = input(\"Enter gesture number: \")\n",
    "store_images(g_id)"
   ]
  },
  {
   "cell_type": "code",
   "execution_count": null,
   "id": "c05d9b00",
   "metadata": {},
   "outputs": [],
   "source": []
  }
 ],
 "metadata": {
  "kernelspec": {
   "display_name": "Python 3",
   "language": "python",
   "name": "python3"
  },
  "language_info": {
   "codemirror_mode": {
    "name": "ipython",
    "version": 3
   },
   "file_extension": ".py",
   "mimetype": "text/x-python",
   "name": "python",
   "nbconvert_exporter": "python",
   "pygments_lexer": "ipython3",
   "version": "3.8.8"
  }
 },
 "nbformat": 4,
 "nbformat_minor": 5
}
